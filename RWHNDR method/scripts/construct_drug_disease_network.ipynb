{
 "cells": [
  {
   "cell_type": "code",
   "execution_count": 2,
   "metadata": {},
   "outputs": [],
   "source": [
    "import networkx as nx\n",
    "import pandas as pd"
   ]
  },
  {
   "cell_type": "code",
   "execution_count": 3,
   "metadata": {},
   "outputs": [],
   "source": [
    "data = pd.read_csv('../data/msb201126-s1.txt', delimiter = \"\\t\")"
   ]
  },
  {
   "cell_type": "code",
   "execution_count": 9,
   "metadata": {},
   "outputs": [],
   "source": [
    "data_omim = pd.read_csv('../data_omim/full_omim_table.txt', delimiter = \"\\t\")"
   ]
  },
  {
   "cell_type": "code",
   "execution_count": 5,
   "metadata": {},
   "outputs": [
    {
     "data": {
      "text/html": [
       "<div>\n",
       "<style scoped>\n",
       "    .dataframe tbody tr th:only-of-type {\n",
       "        vertical-align: middle;\n",
       "    }\n",
       "\n",
       "    .dataframe tbody tr th {\n",
       "        vertical-align: top;\n",
       "    }\n",
       "\n",
       "    .dataframe thead th {\n",
       "        text-align: right;\n",
       "    }\n",
       "</style>\n",
       "<table border=\"1\" class=\"dataframe\">\n",
       "  <thead>\n",
       "    <tr style=\"text-align: right;\">\n",
       "      <th></th>\n",
       "      <th>compound0</th>\n",
       "      <th>compound1</th>\n",
       "      <th>similarity</th>\n",
       "    </tr>\n",
       "  </thead>\n",
       "  <tbody>\n",
       "    <tr>\n",
       "      <th>0</th>\n",
       "      <td>DB00014</td>\n",
       "      <td>DB00035</td>\n",
       "      <td>0.4902</td>\n",
       "    </tr>\n",
       "    <tr>\n",
       "      <th>1</th>\n",
       "      <td>DB00014</td>\n",
       "      <td>DB00050</td>\n",
       "      <td>0.6841</td>\n",
       "    </tr>\n",
       "    <tr>\n",
       "      <th>2</th>\n",
       "      <td>DB00014</td>\n",
       "      <td>DB00091</td>\n",
       "      <td>0.1911</td>\n",
       "    </tr>\n",
       "    <tr>\n",
       "      <th>3</th>\n",
       "      <td>DB00014</td>\n",
       "      <td>DB00093</td>\n",
       "      <td>0.4336</td>\n",
       "    </tr>\n",
       "    <tr>\n",
       "      <th>4</th>\n",
       "      <td>DB00014</td>\n",
       "      <td>DB00104</td>\n",
       "      <td>0.4080</td>\n",
       "    </tr>\n",
       "    <tr>\n",
       "      <th>...</th>\n",
       "      <td>...</td>\n",
       "      <td>...</td>\n",
       "      <td>...</td>\n",
       "    </tr>\n",
       "    <tr>\n",
       "      <th>1200470</th>\n",
       "      <td>DB09019</td>\n",
       "      <td>DB09028</td>\n",
       "      <td>0.1978</td>\n",
       "    </tr>\n",
       "    <tr>\n",
       "      <th>1200471</th>\n",
       "      <td>DB09019</td>\n",
       "      <td>DB07402</td>\n",
       "      <td>0.2182</td>\n",
       "    </tr>\n",
       "    <tr>\n",
       "      <th>1200472</th>\n",
       "      <td>DB09020</td>\n",
       "      <td>DB09028</td>\n",
       "      <td>0.1525</td>\n",
       "    </tr>\n",
       "    <tr>\n",
       "      <th>1200473</th>\n",
       "      <td>DB09020</td>\n",
       "      <td>DB07402</td>\n",
       "      <td>0.2190</td>\n",
       "    </tr>\n",
       "    <tr>\n",
       "      <th>1200474</th>\n",
       "      <td>DB09028</td>\n",
       "      <td>DB07402</td>\n",
       "      <td>0.2178</td>\n",
       "    </tr>\n",
       "  </tbody>\n",
       "</table>\n",
       "<p>1200475 rows × 3 columns</p>\n",
       "</div>"
      ],
      "text/plain": [
       "        compound0 compound1  similarity\n",
       "0         DB00014   DB00035      0.4902\n",
       "1         DB00014   DB00050      0.6841\n",
       "2         DB00014   DB00091      0.1911\n",
       "3         DB00014   DB00093      0.4336\n",
       "4         DB00014   DB00104      0.4080\n",
       "...           ...       ...         ...\n",
       "1200470   DB09019   DB09028      0.1978\n",
       "1200471   DB09019   DB07402      0.2182\n",
       "1200472   DB09020   DB09028      0.1525\n",
       "1200473   DB09020   DB07402      0.2190\n",
       "1200474   DB09028   DB07402      0.2178\n",
       "\n",
       "[1200475 rows x 3 columns]"
      ]
     },
     "execution_count": 5,
     "metadata": {},
     "output_type": "execute_result"
    }
   ],
   "source": [
    "drugbank_slim_df = pd.read_table('../data/drugbank-slim.tsv')\n",
    "drugbank_similarity_df = pd.read_table('../data/similarity-slim.tsv')\n",
    "drugbank_similarity_df"
   ]
  },
  {
   "cell_type": "code",
   "execution_count": 23,
   "metadata": {},
   "outputs": [],
   "source": [
    "def convert_disease_name_to_desease_number(disease_name):\n",
    "    for row in (data_omim.loc[data_omim['phenotype'] == disease_name.lower().capitalize()].iterrows()):\n",
    "        return row[1]['phenotypeMimNumber']"
   ]
  },
  {
   "cell_type": "code",
   "execution_count": 25,
   "metadata": {},
   "outputs": [],
   "source": [
    "def convert_drug_name_to_drug_id(drug_name):\n",
    "    for row in (drugbank_slim_df.loc[drugbank_slim_df['name'] == drug_name].iterrows()):\n",
    "        return row[1]['drugbank_id']\n",
    "    "
   ]
  },
  {
   "cell_type": "code",
   "execution_count": 27,
   "metadata": {},
   "outputs": [
    {
     "data": {
      "text/plain": [
       "298"
      ]
     },
     "execution_count": 27,
     "metadata": {},
     "output_type": "execute_result"
    }
   ],
   "source": [
    "#dopolni to za drug_disease!!!\n",
    "\n",
    "count = 0\n",
    "for row in data.iterrows():\n",
    "    disease_name = convert_disease_name_to_desease_number(row[1]['Disease name'])\n",
    "    drug_name = convert_drug_name_to_drug_id(row[1]['Drug name'])\n",
    "    \n",
    "    if disease_name != None and drug_name != None:\n",
    "        count += 1\n",
    "        \n",
    "count"
   ]
  },
  {
   "cell_type": "code",
   "execution_count": null,
   "metadata": {},
   "outputs": [],
   "source": []
  },
  {
   "cell_type": "code",
   "execution_count": 22,
   "metadata": {},
   "outputs": [
    {
     "data": {
      "text/plain": [
       "1933"
      ]
     },
     "execution_count": 22,
     "metadata": {},
     "output_type": "execute_result"
    }
   ],
   "source": [
    "len(data)"
   ]
  },
  {
   "cell_type": "code",
   "execution_count": 17,
   "metadata": {},
   "outputs": [
    {
     "data": {
      "text/plain": [
       "'Lepo je'"
      ]
     },
     "execution_count": 17,
     "metadata": {},
     "output_type": "execute_result"
    }
   ],
   "source": [
    "'lepo je'.capitalize()"
   ]
  },
  {
   "cell_type": "code",
   "execution_count": 18,
   "metadata": {},
   "outputs": [
    {
     "name": "stdout",
     "output_type": "stream",
     "text": [
      "(7198, genes                        TAS2R16|T2R16\n",
      "hgnc_synonyms              TAS2R16|TAS2R16\n",
      "hgnc_genes                         TAS2R16\n",
      "phenotype               Alcohol dependence\n",
      "phenotypeInheritance        Multifactorial\n",
      "geneMimNumber                       604867\n",
      "phenotypeMimNumber                  103780\n",
      "chromosome                               7\n",
      "comments                               NaN\n",
      "Name: 7198, dtype: object)\n"
     ]
    }
   ],
   "source": [
    "for row in (data_omim.loc[data_omim['phenotype'] == 'Alcohol dependence'.lower().capitalize()].iterrows()):\n",
    "   print(row)"
   ]
  },
  {
   "cell_type": "code",
   "execution_count": 6,
   "metadata": {},
   "outputs": [
    {
     "name": "stdout",
     "output_type": "stream",
     "text": [
      "DB00659\n"
     ]
    }
   ],
   "source": [
    "for row in (drugbank_slim_df.loc[drugbank_slim_df['name'] == 'Acamprosate'].iterrows()):\n",
    "    print(row[1]['drugbank_id'])"
   ]
  },
  {
   "cell_type": "code",
   "execution_count": null,
   "metadata": {},
   "outputs": [],
   "source": []
  }
 ],
 "metadata": {
  "kernelspec": {
   "display_name": "Python 3",
   "language": "python",
   "name": "python3"
  },
  "language_info": {
   "name": ""
  }
 },
 "nbformat": 4,
 "nbformat_minor": 4
}
