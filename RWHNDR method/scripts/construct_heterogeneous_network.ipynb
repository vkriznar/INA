{
 "cells": [
  {
   "cell_type": "code",
   "execution_count": 1,
   "metadata": {},
   "outputs": [],
   "source": [
    "import networkx as nx\n",
    "import os\n",
    "import csv\n",
    "import gzip\n",
    "import collections\n",
    "import re\n",
    "import io\n",
    "import json\n",
    "import xml.etree.ElementTree as ET\n",
    "\n",
    "import requests\n",
    "import pandas as pd\n",
    "import pandas\n",
    "import numpy as np\n",
    "import math"
   ]
  },
  {
   "cell_type": "code",
   "execution_count": 2,
   "metadata": {},
   "outputs": [],
   "source": [
    "G_diseases = nx.read_pajek(\"../networks/disease_disease_network.net\")"
   ]
  },
  {
   "cell_type": "code",
   "execution_count": 3,
   "metadata": {},
   "outputs": [],
   "source": [
    "G_targets = nx.read_pajek(\"../networks/targets_targets_network.net\")"
   ]
  },
  {
   "cell_type": "code",
   "execution_count": 4,
   "metadata": {},
   "outputs": [],
   "source": [
    "G_drugs = nx.read_pajek(\"../networks/drug_drug_network.net\")"
   ]
  },
  {
   "cell_type": "code",
   "execution_count": 5,
   "metadata": {},
   "outputs": [],
   "source": [
    "G_heterogeneous = nx.Graph()"
   ]
  },
  {
   "cell_type": "code",
   "execution_count": 6,
   "metadata": {},
   "outputs": [
    {
     "data": {
      "text/plain": [
       "5901"
      ]
     },
     "execution_count": 6,
     "metadata": {},
     "output_type": "execute_result"
    }
   ],
   "source": [
    "G_heterogeneous.add_nodes_from(G_diseases.nodes())\n",
    "G_heterogeneous.add_nodes_from(G_targets.nodes())\n",
    "G_heterogeneous.add_nodes_from(G_drugs.nodes())\n",
    "\n",
    "G_heterogeneous.number_of_nodes()"
   ]
  },
  {
   "cell_type": "code",
   "execution_count": 7,
   "metadata": {},
   "outputs": [
    {
     "data": {
      "text/plain": [
       "5692147"
      ]
     },
     "execution_count": 7,
     "metadata": {},
     "output_type": "execute_result"
    }
   ],
   "source": [
    "G_heterogeneous.add_edges_from(G_diseases.edges())\n",
    "G_heterogeneous.add_edges_from(G_targets.edges())\n",
    "G_heterogeneous.add_edges_from(G_drugs.edges())\n",
    "\n",
    "G_heterogeneous.number_of_edges()"
   ]
  },
  {
   "cell_type": "code",
   "execution_count": 8,
   "metadata": {},
   "outputs": [
    {
     "data": {
      "text/html": [
       "<div>\n",
       "<style scoped>\n",
       "    .dataframe tbody tr th:only-of-type {\n",
       "        vertical-align: middle;\n",
       "    }\n",
       "\n",
       "    .dataframe tbody tr th {\n",
       "        vertical-align: top;\n",
       "    }\n",
       "\n",
       "    .dataframe thead th {\n",
       "        text-align: right;\n",
       "    }\n",
       "</style>\n",
       "<table border=\"1\" class=\"dataframe\">\n",
       "  <thead>\n",
       "    <tr style=\"text-align: right;\">\n",
       "      <th></th>\n",
       "      <th>compound0</th>\n",
       "      <th>compound1</th>\n",
       "      <th>similarity</th>\n",
       "    </tr>\n",
       "  </thead>\n",
       "  <tbody>\n",
       "    <tr>\n",
       "      <th>0</th>\n",
       "      <td>DB00014</td>\n",
       "      <td>DB00035</td>\n",
       "      <td>0.4902</td>\n",
       "    </tr>\n",
       "    <tr>\n",
       "      <th>1</th>\n",
       "      <td>DB00014</td>\n",
       "      <td>DB00050</td>\n",
       "      <td>0.6841</td>\n",
       "    </tr>\n",
       "    <tr>\n",
       "      <th>2</th>\n",
       "      <td>DB00014</td>\n",
       "      <td>DB00091</td>\n",
       "      <td>0.1911</td>\n",
       "    </tr>\n",
       "    <tr>\n",
       "      <th>3</th>\n",
       "      <td>DB00014</td>\n",
       "      <td>DB00093</td>\n",
       "      <td>0.4336</td>\n",
       "    </tr>\n",
       "    <tr>\n",
       "      <th>4</th>\n",
       "      <td>DB00014</td>\n",
       "      <td>DB00104</td>\n",
       "      <td>0.4080</td>\n",
       "    </tr>\n",
       "    <tr>\n",
       "      <th>...</th>\n",
       "      <td>...</td>\n",
       "      <td>...</td>\n",
       "      <td>...</td>\n",
       "    </tr>\n",
       "    <tr>\n",
       "      <th>1200470</th>\n",
       "      <td>DB09019</td>\n",
       "      <td>DB09028</td>\n",
       "      <td>0.1978</td>\n",
       "    </tr>\n",
       "    <tr>\n",
       "      <th>1200471</th>\n",
       "      <td>DB09019</td>\n",
       "      <td>DB07402</td>\n",
       "      <td>0.2182</td>\n",
       "    </tr>\n",
       "    <tr>\n",
       "      <th>1200472</th>\n",
       "      <td>DB09020</td>\n",
       "      <td>DB09028</td>\n",
       "      <td>0.1525</td>\n",
       "    </tr>\n",
       "    <tr>\n",
       "      <th>1200473</th>\n",
       "      <td>DB09020</td>\n",
       "      <td>DB07402</td>\n",
       "      <td>0.2190</td>\n",
       "    </tr>\n",
       "    <tr>\n",
       "      <th>1200474</th>\n",
       "      <td>DB09028</td>\n",
       "      <td>DB07402</td>\n",
       "      <td>0.2178</td>\n",
       "    </tr>\n",
       "  </tbody>\n",
       "</table>\n",
       "<p>1200475 rows × 3 columns</p>\n",
       "</div>"
      ],
      "text/plain": [
       "        compound0 compound1  similarity\n",
       "0         DB00014   DB00035      0.4902\n",
       "1         DB00014   DB00050      0.6841\n",
       "2         DB00014   DB00091      0.1911\n",
       "3         DB00014   DB00093      0.4336\n",
       "4         DB00014   DB00104      0.4080\n",
       "...           ...       ...         ...\n",
       "1200470   DB09019   DB09028      0.1978\n",
       "1200471   DB09019   DB07402      0.2182\n",
       "1200472   DB09020   DB09028      0.1525\n",
       "1200473   DB09020   DB07402      0.2190\n",
       "1200474   DB09028   DB07402      0.2178\n",
       "\n",
       "[1200475 rows x 3 columns]"
      ]
     },
     "execution_count": 8,
     "metadata": {},
     "output_type": "execute_result"
    }
   ],
   "source": [
    "data = pd.read_csv('../data/msb201126-s1.txt', delimiter = \"\\t\")\n",
    "data_omim = pd.read_csv('../data_omim/full_omim_table.txt', delimiter = \"\\t\")\n",
    "drugbank_slim_df = pd.read_table('../data/drugbank-slim.tsv')\n",
    "drugbank_similarity_df = pd.read_table('../data/similarity-slim.tsv')\n",
    "drugbank_similarity_df"
   ]
  },
  {
   "cell_type": "code",
   "execution_count": 382,
   "metadata": {},
   "outputs": [],
   "source": [
    "def convert_disease_name_to_desease_number(disease_name):\n",
    "    for row in (data_omim.loc[data_omim['phenotype'] == disease_name.lower().capitalize()].iterrows()):\n",
    "        if not math.isnan(row[1]['phenotypeMimNumber']):\n",
    "            return row[1]['phenotypeMimNumber']\n",
    "    \n",
    "def convert_drug_name_to_drug_id(drug_name):\n",
    "    for row in (drugbank_slim_df.loc[drugbank_slim_df['name'] == drug_name].iterrows()):\n",
    "        return row[1]['drugbank_id']\n",
    "    \n",
    "def convert_drug_id_to_drug_name(drug_id):\n",
    "    for row in (drugbank_slim_df.loc[drugbank_slim_df['drugbank_id'] == drug_id].iterrows()):\n",
    "        return row[1]['name']"
   ]
  },
  {
   "cell_type": "code",
   "execution_count": 10,
   "metadata": {},
   "outputs": [
    {
     "data": {
      "text/plain": [
       "0"
      ]
     },
     "execution_count": 10,
     "metadata": {},
     "output_type": "execute_result"
    }
   ],
   "source": [
    "#dopolni to za drug_disease!!!\n",
    "\n",
    "count = 0\n",
    "for row in data.iterrows():\n",
    "    #if 'Cancer' in row[1]['Disease name']:\n",
    "    #    print(row[1]['Disease name'])\n",
    "    #print(row[1]['Disease name'])\n",
    "    \n",
    "    disease_number = convert_disease_name_to_desease_number(row[1]['Disease name'])\n",
    "    drug_id = convert_drug_name_to_drug_id(row[1]['Drug name'])\n",
    "    \n",
    "    if disease_number != None and drug_id != None:\n",
    "        #print(int(disease_number))\n",
    "        if G_diseases.has_node(str(int(disease_number))) and G_drugs.has_node(drug_id):\n",
    "            #count += 1\n",
    "            G_heterogeneous.add_edge(str(int(disease_number)), drug_id, weight=1.0)\n",
    "        \n",
    "count"
   ]
  },
  {
   "cell_type": "code",
   "execution_count": 11,
   "metadata": {},
   "outputs": [
    {
     "data": {
      "text/plain": [
       "5692445"
      ]
     },
     "execution_count": 11,
     "metadata": {},
     "output_type": "execute_result"
    }
   ],
   "source": [
    "G_heterogeneous.number_of_edges()"
   ]
  },
  {
   "cell_type": "code",
   "execution_count": 12,
   "metadata": {},
   "outputs": [
    {
     "data": {
      "text/plain": [
       "nan"
      ]
     },
     "execution_count": 12,
     "metadata": {},
     "output_type": "execute_result"
    }
   ],
   "source": [
    "convert_disease_name_to_desease_number(\"Atherosclerosis, susceptibility to\")"
   ]
  },
  {
   "cell_type": "code",
   "execution_count": 13,
   "metadata": {},
   "outputs": [
    {
     "data": {
      "text/plain": [
       "True"
      ]
     },
     "execution_count": 13,
     "metadata": {},
     "output_type": "execute_result"
    }
   ],
   "source": [
    "G_diseases.has_node(str(int(180300.0)))"
   ]
  },
  {
   "cell_type": "code",
   "execution_count": 14,
   "metadata": {},
   "outputs": [],
   "source": [
    "xml_path = os.path.join('../download', 'drugbank.xml.gz')\n",
    "with gzip.open(xml_path) as xml_file:\n",
    "    tree = ET.parse(xml_file)\n",
    "root = tree.getroot()\n",
    "\n",
    "ns = '{http://www.drugbank.ca}'\n",
    "inchikey_template = \"{ns}calculated-properties/{ns}property[{ns}kind='InChIKey']/{ns}value\"\n",
    "inchi_template = \"{ns}calculated-properties/{ns}property[{ns}kind='InChI']/{ns}value\""
   ]
  },
  {
   "cell_type": "code",
   "execution_count": 15,
   "metadata": {},
   "outputs": [],
   "source": [
    "protein_rows = list()\n",
    "for i, drug in enumerate(root):\n",
    "    drugbank_id = drug.findtext(ns + \"drugbank-id[@primary='true']\")\n",
    "    for category in ['target', 'enzyme', 'carrier', 'transporter']:\n",
    "        proteins = drug.findall('{ns}{cat}s/{ns}{cat}'.format(ns=ns, cat=category))\n",
    "        for protein in proteins:\n",
    "            row = {'drugbank_id': drugbank_id, 'category': category}\n",
    "            row['organism'] = protein.findtext('{}organism'.format(ns))\n",
    "            row['known_action'] = protein.findtext('{}known-action'.format(ns))\n",
    "            actions = protein.findall('{ns}actions/{ns}action'.format(ns=ns))\n",
    "            row['actions'] = '|'.join(action.text for action in actions)\n",
    "            uniprot_ids = [polypep.text for polypep in protein.findall(\n",
    "                \"{ns}polypeptide/{ns}external-identifiers/{ns}external-identifier[{ns}resource='UniProtKB']/{ns}identifier\".format(ns=ns))]            \n",
    "            if len(uniprot_ids) != 1:\n",
    "                continue\n",
    "            row['uniprot_id'] = uniprot_ids[0]\n",
    "            ref_text = protein.findtext(\"{ns}references[@format='textile']\".format(ns=ns))\n",
    "            pmids = re.findall(r'pubmed/([0-9]+)', ref_text)\n",
    "            row['pubmed_ids'] = '|'.join(pmids)\n",
    "            protein_rows.append(row)\n",
    "\n",
    "protein_df = pandas.DataFrame.from_dict(protein_rows)"
   ]
  },
  {
   "cell_type": "code",
   "execution_count": 16,
   "metadata": {},
   "outputs": [
    {
     "data": {
      "text/plain": [
       "5702375"
      ]
     },
     "execution_count": 16,
     "metadata": {},
     "output_type": "execute_result"
    }
   ],
   "source": [
    "count = 0\n",
    "\n",
    "for node in G_drugs.nodes():\n",
    "    for row in (protein_df.loc[protein_df['drugbank_id'] == node].iterrows()):\n",
    "        #print(row[1]['uniprot_id'])\n",
    "        #G_targets.add_node(row[1]['uniprot_id'])\n",
    "        uni_prot_id = row[1]['uniprot_id']\n",
    "        \n",
    "        #print(uni_prot_id)\n",
    "        \n",
    "        if G_targets.has_node(str(uni_prot_id)) and G_drugs.has_node(node):\n",
    "            #count += 1\n",
    "            G_heterogeneous.add_edge(str(uni_prot_id), node, weight=1.0)\n",
    "            \n",
    "G_heterogeneous.number_of_edges()"
   ]
  },
  {
   "cell_type": "code",
   "execution_count": 17,
   "metadata": {},
   "outputs": [],
   "source": [
    "#construct A_R_R, A_R_T, A_R_D, A_T_T, A_T_D, A_D_D\n",
    "\n",
    "#drugs: G_drugs\n",
    "rows, cols = (G_drugs.number_of_nodes(), G_drugs.number_of_nodes())\n",
    "\n",
    "A_R_R = np.matrix([[0]*cols]*rows, dtype=float)"
   ]
  },
  {
   "cell_type": "code",
   "execution_count": 18,
   "metadata": {},
   "outputs": [],
   "source": [
    "drugs_nodes_list = list(G_drugs.nodes())\n",
    "\n",
    "for edge in G_drugs.edges():\n",
    "    node_idx_1 = drugs_nodes_list.index(edge[0])\n",
    "    node_idx_2 = drugs_nodes_list.index(edge[1])\n",
    "    weight = G_drugs.get_edge_data(edge[0], edge[1])[0]['weight']\n",
    "    \n",
    "    A_R_R[node_idx_1, node_idx_2] = weight"
   ]
  },
  {
   "cell_type": "code",
   "execution_count": 19,
   "metadata": {},
   "outputs": [],
   "source": [
    "#proteins: G_targets\n",
    "\n",
    "rows, cols = (G_targets.number_of_nodes(), G_targets.number_of_nodes())\n",
    "\n",
    "A_T_T = np.matrix([[0]*cols]*rows, dtype=float)"
   ]
  },
  {
   "cell_type": "code",
   "execution_count": 20,
   "metadata": {},
   "outputs": [],
   "source": [
    "targets_nodes_list = list(G_targets.nodes())\n",
    "\n",
    "for edge in G_targets.edges():\n",
    "    node_idx_1 = targets_nodes_list.index(edge[0])\n",
    "    node_idx_2 = targets_nodes_list.index(edge[1])\n",
    "    weight = G_targets.get_edge_data(edge[0], edge[1])[0]['weight']\n",
    "    \n",
    "    A_T_T[node_idx_1, node_idx_2] = weight"
   ]
  },
  {
   "cell_type": "code",
   "execution_count": 21,
   "metadata": {},
   "outputs": [],
   "source": [
    "#diseases: G_disease\n",
    "\n",
    "rows, cols = (G_diseases.number_of_nodes(), G_diseases.number_of_nodes())\n",
    "\n",
    "A_D_D = np.matrix([[0]*cols]*rows, dtype=float)"
   ]
  },
  {
   "cell_type": "code",
   "execution_count": 22,
   "metadata": {},
   "outputs": [],
   "source": [
    "diseases_nodes_list = list(G_diseases.nodes())\n",
    "\n",
    "for edge in G_diseases.edges():\n",
    "    node_idx_1 = diseases_nodes_list.index(edge[0])\n",
    "    node_idx_2 = diseases_nodes_list.index(edge[1])\n",
    "    weight = G_diseases.get_edge_data(edge[0], edge[1])[0]['weight']\n",
    "    \n",
    "    A_D_D[node_idx_1, node_idx_2] = weight"
   ]
  },
  {
   "cell_type": "code",
   "execution_count": 23,
   "metadata": {},
   "outputs": [],
   "source": [
    "#drug_desease: G_drugs and G_diseases\n",
    "\n",
    "rows, cols = (G_drugs.number_of_nodes(), G_diseases.number_of_nodes())\n",
    "\n",
    "A_R_D = np.matrix([[0]*cols]*rows, dtype=float)"
   ]
  },
  {
   "cell_type": "code",
   "execution_count": 24,
   "metadata": {},
   "outputs": [
    {
     "data": {
      "text/plain": [
       "298"
      ]
     },
     "execution_count": 24,
     "metadata": {},
     "output_type": "execute_result"
    }
   ],
   "source": [
    "count = 0\n",
    "\n",
    "for drug in G_drugs.nodes():\n",
    "    for disease in G_diseases.nodes():\n",
    "        if G_heterogeneous.has_edge(drug, disease):\n",
    "            drug_idx = drugs_nodes_list.index(drug)\n",
    "            disease_idx = diseases_nodes_list.index(disease)\n",
    "            A_R_D[drug_idx, disease_idx] = 1\n",
    "            count += 1\n",
    "            \n",
    "count"
   ]
  },
  {
   "cell_type": "code",
   "execution_count": 25,
   "metadata": {},
   "outputs": [],
   "source": [
    "#drug_target: G_drugs and G_targets\n",
    "\n",
    "rows, cols = (G_drugs.number_of_nodes(), G_targets.number_of_nodes())\n",
    "\n",
    "A_R_T = np.matrix([[0]*cols]*rows, dtype=float)"
   ]
  },
  {
   "cell_type": "code",
   "execution_count": 26,
   "metadata": {},
   "outputs": [
    {
     "data": {
      "text/plain": [
       "9930"
      ]
     },
     "execution_count": 26,
     "metadata": {},
     "output_type": "execute_result"
    }
   ],
   "source": [
    "count = 0\n",
    "\n",
    "for drug in G_drugs.nodes():\n",
    "    for target in G_targets.nodes():\n",
    "        if G_heterogeneous.has_edge(drug, target):\n",
    "            drug_idx = drugs_nodes_list.index(drug)\n",
    "            target_idx = targets_nodes_list.index(target)\n",
    "            A_R_T[drug_idx, target_idx] = 1\n",
    "            count += 1\n",
    "\n",
    "count"
   ]
  },
  {
   "cell_type": "code",
   "execution_count": 27,
   "metadata": {},
   "outputs": [],
   "source": [
    "#disease_target: G_diseases and G_targets\n",
    "\n",
    "rows, cols = (G_diseases.number_of_nodes(), G_targets.number_of_nodes())\n",
    "\n",
    "A_D_T = np.matrix([[0]*cols]*rows, dtype=float)"
   ]
  },
  {
   "cell_type": "code",
   "execution_count": 28,
   "metadata": {},
   "outputs": [],
   "source": [
    "count = 0\n",
    "\n",
    "for disease in G_diseases.nodes():\n",
    "    for target in G_targets.nodes():\n",
    "        if G_heterogeneous.has_edge(disease, target):\n",
    "            disease_idx = disease_nodes_list.index(disease)\n",
    "            target_idx = targets_nodes_list.index(target)\n",
    "            A_D_T[disease_idx, target_idx] = 1\n",
    "            count += 1\n"
   ]
  },
  {
   "cell_type": "code",
   "execution_count": 29,
   "metadata": {},
   "outputs": [],
   "source": [
    "A_D_R = A_R_D.transpose()\n",
    "A_T_R = A_R_T.transpose()\n",
    "A_T_D = A_D_T.transpose()"
   ]
  },
  {
   "cell_type": "code",
   "execution_count": 327,
   "metadata": {},
   "outputs": [],
   "source": [
    "gama = 0.2\n",
    "\n",
    "gama_drug = 0.4\n",
    "gama_disease = 0.4\n",
    "gama_target = 0.2\n",
    "\n",
    "gama_drug_disease = 0.4\n",
    "gama_target_disease = 0.4\n",
    "gama_target_drug = 0.2\n",
    "\n",
    "assert gama_drug + gama_disease + gama_target == 1.0"
   ]
  },
  {
   "cell_type": "code",
   "execution_count": null,
   "metadata": {},
   "outputs": [],
   "source": []
  },
  {
   "cell_type": "code",
   "execution_count": 328,
   "metadata": {},
   "outputs": [],
   "source": [
    "# i - vrstica, j - stolpec\n",
    "def sum_all_elements_in_row(matrix, i, dictionary):\n",
    "    cur_sum = 0\n",
    "    \n",
    "    if i not in dictionary:\n",
    "        if i < matrix.shape[0]:\n",
    "            for j in range(matrix.shape[1]):\n",
    "                cur_sum += matrix[i, j]\n",
    "        dictionary[i] = cur_sum\n",
    "    else:\n",
    "        cur_sum = dictionary[i]\n",
    "        \n",
    "    return cur_sum\n",
    "    "
   ]
  },
  {
   "cell_type": "code",
   "execution_count": 329,
   "metadata": {},
   "outputs": [],
   "source": [
    "def get_element(matrix, i, j):\n",
    "    if i < matrix.shape[0] and j < matrix.shape[1]:\n",
    "        return matrix[i, j]\n",
    "    return 0"
   ]
  },
  {
   "cell_type": "code",
   "execution_count": 330,
   "metadata": {},
   "outputs": [
    {
     "data": {
      "text/plain": [
       "(2741, 2741)"
      ]
     },
     "execution_count": 330,
     "metadata": {},
     "output_type": "execute_result"
    }
   ],
   "source": [
    "A_D_D.shape"
   ]
  },
  {
   "cell_type": "code",
   "execution_count": 331,
   "metadata": {},
   "outputs": [],
   "source": [
    "def create_intra_transition_matrix(A_1_1, A_1_2, A_1_3, gama_1_2, gama_1_3):\n",
    "\n",
    "    M = np.matrix(np.zeros(A_1_1.shape), dtype=float)\n",
    "    dict_M = {}\n",
    "    dict_uniq_rows = {}\n",
    "\n",
    "    for i in range(M.shape[0]):\n",
    "        for j in range(M.shape[1]):\n",
    "            sum_A_1_1 = sum_all_elements_in_row(A_1_1, i, dict_M)\n",
    "            if sum_A_1_1 == 0:\n",
    "                if i not in dict_uniq_rows:\n",
    "                    print(i)\n",
    "                    dict_uniq_rows[i] = 0\n",
    "                sum_A_1_1 = 1\n",
    "\n",
    "            sum_A_1_2 = sum_all_elements_in_row(A_1_2, i, dict_M)\n",
    "            sum_A_1_3 = sum_all_elements_in_row(A_1_3, i, dict_M)\n",
    "            cur_value = 0\n",
    "\n",
    "            if sum_A_1_2 == 0 and sum_A_1_3 == 0:\n",
    "                cur_value = A_1_1[i, j] / sum_A_1_1\n",
    "            elif sum_A_1_2 != 0 and sum_A_1_3 == 0:\n",
    "                cur_value = (1 - gama_1_2) * A_1_1[i, j] / sum_A_1_1\n",
    "            elif sum_A_1_2 == 0 and sum_A_1_3 != 0:\n",
    "                cur_value = (1 - gama_1_3) * A_1_1[i, j] / sum_A_1_1\n",
    "            elif sum_A_1_2 != 0 and sum_A_1_3 != 0:\n",
    "                cur_value = (1 - gama_1_2 - gama_1_3) * A_1_1[i, j] / sum_A_1_1\n",
    "\n",
    "            if math.isnan(cur_value):\n",
    "                print(sum_A_1_1)\n",
    "                print(sum_A_1_2)\n",
    "                print(sum_A_1_3)\n",
    "                print(cur_value)\n",
    "\n",
    "            M[i, j] = cur_value\n",
    "            \n",
    "    return M"
   ]
  },
  {
   "cell_type": "code",
   "execution_count": 332,
   "metadata": {},
   "outputs": [],
   "source": [
    "def create_inter_transition_matrix(A_1_2, gama_1_2):\n",
    "    M = np.matrix(np.zeros(A_1_2.shape), dtype=float)\n",
    "    dict_M = {}\n",
    "    dict_uniq_rows = {}\n",
    "\n",
    "    for i in range(M.shape[0]):\n",
    "        for j in range(M.shape[1]):\n",
    "            sum_A_1_2 = sum_all_elements_in_row(A_1_2, i, dict_M)\n",
    "            \n",
    "            if sum_A_1_2 != 0:\n",
    "                M[i, j] = gama_1_2 * get_element(A_1_2, i, j) / sum_A_1_2   \n",
    "            \n",
    "    return M"
   ]
  },
  {
   "cell_type": "code",
   "execution_count": 333,
   "metadata": {},
   "outputs": [
    {
     "name": "stdout",
     "output_type": "stream",
     "text": [
      "2738\n",
      "2740\n"
     ]
    }
   ],
   "source": [
    "M_D_D = create_intra_transition_matrix(A_D_D, A_D_R, A_D_T, gama_drug_disease, gama_target_disease)"
   ]
  },
  {
   "cell_type": "code",
   "execution_count": 334,
   "metadata": {},
   "outputs": [
    {
     "name": "stdout",
     "output_type": "stream",
     "text": [
      "1009\n",
      "1070\n",
      "1155\n",
      "1165\n",
      "1243\n",
      "1244\n",
      "1413\n",
      "1435\n",
      "1551\n"
     ]
    }
   ],
   "source": [
    "M_R_R = create_intra_transition_matrix(A_R_R, A_R_D, A_R_T, gama_drug_disease, gama_target_drug)"
   ]
  },
  {
   "cell_type": "code",
   "execution_count": 335,
   "metadata": {},
   "outputs": [
    {
     "name": "stdout",
     "output_type": "stream",
     "text": [
      "1607\n"
     ]
    }
   ],
   "source": [
    "M_T_T = create_intra_transition_matrix(A_T_T, A_T_D, A_T_R, gama_target_disease, gama_target_drug)"
   ]
  },
  {
   "cell_type": "code",
   "execution_count": 336,
   "metadata": {},
   "outputs": [],
   "source": [
    "M_D_R = create_inter_transition_matrix(A_D_R, gama_drug_disease)\n",
    "M_D_T = create_inter_transition_matrix(A_D_T, gama_target_disease)\n",
    "M_R_T = create_inter_transition_matrix(A_R_T, gama_target_drug)"
   ]
  },
  {
   "cell_type": "code",
   "execution_count": 337,
   "metadata": {},
   "outputs": [],
   "source": [
    "M_R_D = M_D_R.transpose()\n",
    "M_T_D = M_D_T.transpose()\n",
    "M_T_R = M_R_T.transpose()"
   ]
  },
  {
   "cell_type": "code",
   "execution_count": 338,
   "metadata": {},
   "outputs": [],
   "source": [
    "M = np.vstack((np.hstack((M_R_R, M_R_T, M_R_D)), np.hstack((M_T_R, M_T_T, M_T_D)), np.hstack((M_D_R, M_D_T, M_D_D))))\n",
    "\n",
    "assert M.shape[0] == M_R_R.shape[0] + M_T_T.shape[0] + M_D_D.shape[0]\n",
    "assert M.shape[1] == M_R_R.shape[1] + M_T_T.shape[1] + M_D_D.shape[1]"
   ]
  },
  {
   "cell_type": "code",
   "execution_count": 339,
   "metadata": {},
   "outputs": [
    {
     "data": {
      "text/plain": [
       "'for i in range(M.shape[0]):\\n    suma = sum_all_elements_in_row(M, i, {})\\n    for j in range(M.shape[1]):\\n        if suma != 0:\\n            M[i, j] = M[i, j] / suma\\n        else:\\n            M[i, j] = 1 / M.shape[1]'"
      ]
     },
     "execution_count": 339,
     "metadata": {},
     "output_type": "execute_result"
    }
   ],
   "source": [
    "\"\"\"for i in range(M.shape[0]):\n",
    "    suma = sum_all_elements_in_row(M, i, {})\n",
    "    for j in range(M.shape[1]):\n",
    "        if suma != 0:\n",
    "            M[i, j] = M[i, j] / suma\n",
    "        else:\n",
    "            M[i, j] = 1 / M.shape[1]\"\"\""
   ]
  },
  {
   "cell_type": "code",
   "execution_count": 340,
   "metadata": {},
   "outputs": [
    {
     "data": {
      "text/plain": [
       "matrix([[2, 3, 3, 4]])"
      ]
     },
     "execution_count": 340,
     "metadata": {},
     "output_type": "execute_result"
    }
   ],
   "source": [
    "a = np.matrix([2, 3])\n",
    "b = np.matrix([3, 4])\n",
    "\n",
    "np.hstack((a, b))"
   ]
  },
  {
   "cell_type": "code",
   "execution_count": 341,
   "metadata": {},
   "outputs": [
    {
     "data": {
      "text/plain": [
       "0.9999999999999967"
      ]
     },
     "execution_count": 341,
     "metadata": {},
     "output_type": "execute_result"
    }
   ],
   "source": [
    "P_R = np.zeros(M_R_R.shape[0])\n",
    "\n",
    "for i in range(len(P_R)):\n",
    "    P_R[i] = 1 / len(P_R)\n",
    "\n",
    "sum(P_R)"
   ]
  },
  {
   "cell_type": "code",
   "execution_count": 342,
   "metadata": {},
   "outputs": [
    {
     "data": {
      "text/plain": [
       "0.9993784959601935"
      ]
     },
     "execution_count": 342,
     "metadata": {},
     "output_type": "execute_result"
    }
   ],
   "source": [
    "P_T = np.zeros(M_T_T.shape[0])\n",
    "\n",
    "for i in range(len(P_T)):\n",
    "    P_T[i] = 1 / (len(P_T) + 1)\n",
    "\n",
    "sum(P_T)"
   ]
  },
  {
   "cell_type": "code",
   "execution_count": 403,
   "metadata": {},
   "outputs": [
    {
     "name": "stdout",
     "output_type": "stream",
     "text": [
      "180300.0\n",
      "37\n"
     ]
    },
    {
     "data": {
      "text/plain": [
       "1.0"
      ]
     },
     "execution_count": 403,
     "metadata": {},
     "output_type": "execute_result"
    }
   ],
   "source": [
    "P_D = np.zeros(M_D_D.shape[0])\n",
    "\n",
    "disease_num = convert_disease_name_to_desease_number(\"Rheumatoid arthritis, susceptibility to\") #Atherosclerosis, susceptibility to #Prostate cancer #Rheumatoid arthritis, susceptibility to\n",
    "\n",
    "print(disease_num)\n",
    "P_D[diseases_nodes_list.index(str(int(disease_num)))] = 1.0\n",
    "\n",
    "print(diseases_nodes_list.index(str(int(disease_num))))\n",
    "\n",
    "sum(P_D)"
   ]
  },
  {
   "cell_type": "code",
   "execution_count": 404,
   "metadata": {},
   "outputs": [
    {
     "data": {
      "text/plain": [
       "matrix([[0.9998757]])"
      ]
     },
     "execution_count": 404,
     "metadata": {},
     "output_type": "execute_result"
    }
   ],
   "source": [
    "P_0 = np.matrix(np.concatenate((gama_drug * P_R, gama_target * P_T, gama_disease * P_D))).transpose()\n",
    "P_t = P_0\n",
    "sum(P_0)"
   ]
  },
  {
   "cell_type": "code",
   "execution_count": 405,
   "metadata": {},
   "outputs": [
    {
     "name": "stdout",
     "output_type": "stream",
     "text": [
      "0.6007410465422669\n",
      "0.13528498139154035\n",
      "0.04880060179466926\n",
      "0.035860208820872756\n",
      "0.016940796124352446\n",
      "0.017101678996621877\n",
      "0.008020629596171915\n",
      "0.009320750305549788\n",
      "0.004129469785857984\n",
      "0.005324885193592458\n",
      "0.0022106500041710665\n",
      "0.003144885395485255\n",
      "0.0012967346862377592\n",
      "0.0019235643129010768\n",
      "0.000904181463381359\n",
      "0.0012092386895251864\n",
      "0.0006531138156850122\n",
      "0.0007694668160077543\n",
      "0.00046056556686251295\n",
      "0.0004945795555904654\n",
      "0.0003195662203336577\n",
      "0.0003204116214515142\n",
      "0.0002192736235261479\n",
      "0.00020889033379461964\n",
      "0.00014927502895756652\n",
      "0.0001368631436128783\n",
      "0.00010104689321403914\n",
      "9.00197681984995e-05\n",
      "6.811806481749008e-05\n",
      "5.9387031111790924e-05\n",
      "4.578050918872883e-05\n",
      "3.9268728545699766e-05\n",
      "3.06987860110294e-05\n",
      "2.6011693087279415e-05\n",
      "2.055108079710304e-05\n",
      "1.725341382736566e-05\n",
      "1.3740593133091113e-05\n",
      "1.1455818846764887e-05\n",
      "9.178469000619983e-06\n",
      "7.612280203809297e-06\n",
      "6.126755976299357e-06\n",
      "5.061266346699003e-06\n",
      "4.087543112012796e-06\n",
      "3.3666443893780914e-06\n",
      "2.7259777049478348e-06\n",
      "2.2401738958071877e-06\n",
      "1.8174103785499788e-06\n",
      "1.4909974043494948e-06\n",
      "1.2113967844511864e-06\n",
      "9.925574142372104e-07\n",
      "8.073215758654954e-07\n",
      "6.608418049367345e-07\n",
      "5.379618808670721e-07\n",
      "4.4003480232812813e-07\n",
      "3.584386655838109e-07\n",
      "2.930302810866208e-07\n",
      "2.38806888132859e-07\n",
      "1.9514845156194086e-07\n",
      "1.5909451751143855e-07\n",
      "1.2996852435007706e-07\n",
      "1.0598533120043779e-07\n",
      "8.65618856867013e-08\n",
      "7.060295449547837e-08\n",
      "5.765365949965468e-08\n",
      "4.7031611481664054e-08\n",
      "3.840040766516911e-08\n",
      "3.132919286950112e-08\n",
      "2.557710694010133e-08\n",
      "2.0869055431733663e-08\n",
      "1.703617143567717e-08\n",
      "1.3901191828075332e-08\n",
      "1.1347399768930609e-08\n",
      "9.259723163283217e-09\n"
     ]
    },
    {
     "data": {
      "text/plain": [
       "73"
      ]
     },
     "execution_count": 405,
     "metadata": {},
     "output_type": "execute_result"
    }
   ],
   "source": [
    "count_steps = 0\n",
    "Zacetek = True\n",
    "\n",
    "gama = 0.3\n",
    "\n",
    "while Zacetek or sum(abs(P_t - P_t_prej))[0, 0] > pow(10.0, -8):\n",
    "    P_t_prej = P_t\n",
    "    P_t = (1 - gama) * M.transpose() * P_t + gama * P_0\n",
    "    #print(sum(P_t))\n",
    "    Zacetek = False\n",
    "    count_steps += 1\n",
    "    print(sum(abs(P_t - P_t_prej))[0, 0])\n",
    "    \n",
    "count_steps\n"
   ]
  },
  {
   "cell_type": "code",
   "execution_count": 406,
   "metadata": {},
   "outputs": [
    {
     "name": "stdout",
     "output_type": "stream",
     "text": [
      "drug: Bromhexine, with index:  1549 with value: [[0.00098759]]\n",
      "drug: Dihydrocodeine, with index:  1224 with value: [[0.00079392]]\n",
      "drug: Lumefantrine, with index:  1402 with value: [[0.00091831]]\n",
      "drug: Cytisine, with index:  1551 with value: [[0.00074734]]\n",
      "drug: Bisacodyl, with index:  1550 with value: [[0.00110564]]\n"
     ]
    }
   ],
   "source": [
    "find_n_most_promising = 5\n",
    "cur_top_values_array = []\n",
    "cur_top_indexes_array = []\n",
    "\n",
    "for i in range(find_n_most_promising):\n",
    "    cur_top_values_array.append(0)\n",
    "    cur_top_indexes_array.append(0)\n",
    "\n",
    "for i in range(len(P_R)):\n",
    "    \n",
    "    if any(P_t[i] > el for el in cur_top_values_array):\n",
    "        cur_top_values_array[cur_top_values_array.index(min(cur_top_values_array))] = P_t[i]\n",
    "        cur_top_indexes_array[cur_top_values_array.index(min(cur_top_values_array))] = i\n",
    "        \n",
    "for i in range(find_n_most_promising):\n",
    "    print(\"drug: \" + convert_drug_id_to_drug_name(drugs_nodes_list[cur_top_indexes_array[i]]) + \", with index: \", cur_top_indexes_array[i], \"with value:\", cur_top_values_array[i])"
   ]
  },
  {
   "cell_type": "code",
   "execution_count": 394,
   "metadata": {},
   "outputs": [
    {
     "data": {
      "text/plain": [
       "0.5999999999999999"
      ]
     },
     "execution_count": 394,
     "metadata": {},
     "output_type": "execute_result"
    }
   ],
   "source": [
    "sum_all_elements_in_row(M, 2, {})"
   ]
  },
  {
   "cell_type": "code",
   "execution_count": 356,
   "metadata": {},
   "outputs": [
    {
     "data": {
      "text/plain": [
       "matrix([[0],\n",
       "        [0],\n",
       "        [0],\n",
       "        [0],\n",
       "        [0]])"
      ]
     },
     "execution_count": 356,
     "metadata": {},
     "output_type": "execute_result"
    }
   ],
   "source": [
    "\n",
    "\n",
    "rows, cols = (5, 5)\n",
    "arr = [[0]*cols]*rows\n",
    "np.matrix(arr) * np.matrix([0, 0, 0, 0, 0]).transpose()"
   ]
  },
  {
   "cell_type": "markdown",
   "metadata": {},
   "source": [
    "Prostate cancer\n",
    "\n",
    "drug: Capecitabine, with index:  950 with value: [[0.00424314]]\n",
    "drug: Bicalutamide, with index:  976 with value: [[0.00414983]]\n",
    "drug: Docetaxel, with index:  1092 with value: [[0.00404751]]\n",
    "drug: Estramustine, with index:  1041 with value: [[0.00411872]]\n",
    "drug: Chlordiazepoxide, with index:  347 with value: [[0.00405137]]\n",
    "\n",
    "Rheumatoid arthritis\n",
    "\n",
    "drug: Dihydrocodeine, with index:  1224 with value: [[0.00058445]]\n",
    "drug: Pantoprazole, with index:  99 with value: [[0.000617]]\n",
    "drug: Temozolomide, with index:  712 with value: [[0.00055556]]\n",
    "drug: Lumefantrine, with index:  1402 with value: [[0.00062514]]\n",
    "drug: Estradiol valerate/Dienogest, with index:  1474 with value: [[0.0005551]]\n",
    "\n",
    "Atherosclerosis\n",
    "\n",
    "drug: Bromhexine, with index:  1549 with value: [[0.0009875]]\n",
    "drug: Dihydrocodeine, with index:  1224 with value: [[0.00079384]]\n",
    "drug: Lumefantrine, with index:  1402 with value: [[0.00091822]]\n",
    "drug: Bisacodyl, with index:  1550 with value: [[0.00110555]]\n",
    "drug: Cytisine, with index:  1551 with value: [[0.00074728]]"
   ]
  }
 ],
 "metadata": {
  "kernelspec": {
   "display_name": "Python 3",
   "language": "python",
   "name": "python3"
  },
  "language_info": {
   "codemirror_mode": {
    "name": "ipython",
    "version": 3
   },
   "file_extension": ".py",
   "mimetype": "text/x-python",
   "name": "python",
   "nbconvert_exporter": "python",
   "pygments_lexer": "ipython3",
   "version": "3.8.5"
  }
 },
 "nbformat": 4,
 "nbformat_minor": 4
}
