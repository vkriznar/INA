{
 "cells": [
  {
   "cell_type": "code",
   "execution_count": 18,
   "metadata": {},
   "outputs": [],
   "source": [
    "import pandas\n",
    "import networkx as nx"
   ]
  },
  {
   "cell_type": "code",
   "execution_count": 59,
   "metadata": {},
   "outputs": [
    {
     "data": {
      "text/html": [
       "<div>\n",
       "<style scoped>\n",
       "    .dataframe tbody tr th:only-of-type {\n",
       "        vertical-align: middle;\n",
       "    }\n",
       "\n",
       "    .dataframe tbody tr th {\n",
       "        vertical-align: top;\n",
       "    }\n",
       "\n",
       "    .dataframe thead th {\n",
       "        text-align: right;\n",
       "    }\n",
       "</style>\n",
       "<table border=\"1\" class=\"dataframe\">\n",
       "  <thead>\n",
       "    <tr style=\"text-align: right;\">\n",
       "      <th></th>\n",
       "      <th>compound0</th>\n",
       "      <th>compound1</th>\n",
       "      <th>similarity</th>\n",
       "    </tr>\n",
       "  </thead>\n",
       "  <tbody>\n",
       "    <tr>\n",
       "      <th>0</th>\n",
       "      <td>DB00014</td>\n",
       "      <td>DB00035</td>\n",
       "      <td>0.4902</td>\n",
       "    </tr>\n",
       "    <tr>\n",
       "      <th>1</th>\n",
       "      <td>DB00014</td>\n",
       "      <td>DB00050</td>\n",
       "      <td>0.6841</td>\n",
       "    </tr>\n",
       "    <tr>\n",
       "      <th>2</th>\n",
       "      <td>DB00014</td>\n",
       "      <td>DB00091</td>\n",
       "      <td>0.1911</td>\n",
       "    </tr>\n",
       "    <tr>\n",
       "      <th>3</th>\n",
       "      <td>DB00014</td>\n",
       "      <td>DB00093</td>\n",
       "      <td>0.4336</td>\n",
       "    </tr>\n",
       "    <tr>\n",
       "      <th>4</th>\n",
       "      <td>DB00014</td>\n",
       "      <td>DB00104</td>\n",
       "      <td>0.4080</td>\n",
       "    </tr>\n",
       "    <tr>\n",
       "      <th>...</th>\n",
       "      <td>...</td>\n",
       "      <td>...</td>\n",
       "      <td>...</td>\n",
       "    </tr>\n",
       "    <tr>\n",
       "      <th>1200470</th>\n",
       "      <td>DB09019</td>\n",
       "      <td>DB09028</td>\n",
       "      <td>0.1978</td>\n",
       "    </tr>\n",
       "    <tr>\n",
       "      <th>1200471</th>\n",
       "      <td>DB09019</td>\n",
       "      <td>DB07402</td>\n",
       "      <td>0.2182</td>\n",
       "    </tr>\n",
       "    <tr>\n",
       "      <th>1200472</th>\n",
       "      <td>DB09020</td>\n",
       "      <td>DB09028</td>\n",
       "      <td>0.1525</td>\n",
       "    </tr>\n",
       "    <tr>\n",
       "      <th>1200473</th>\n",
       "      <td>DB09020</td>\n",
       "      <td>DB07402</td>\n",
       "      <td>0.2190</td>\n",
       "    </tr>\n",
       "    <tr>\n",
       "      <th>1200474</th>\n",
       "      <td>DB09028</td>\n",
       "      <td>DB07402</td>\n",
       "      <td>0.2178</td>\n",
       "    </tr>\n",
       "  </tbody>\n",
       "</table>\n",
       "<p>1200475 rows × 3 columns</p>\n",
       "</div>"
      ],
      "text/plain": [
       "        compound0 compound1  similarity\n",
       "0         DB00014   DB00035      0.4902\n",
       "1         DB00014   DB00050      0.6841\n",
       "2         DB00014   DB00091      0.1911\n",
       "3         DB00014   DB00093      0.4336\n",
       "4         DB00014   DB00104      0.4080\n",
       "...           ...       ...         ...\n",
       "1200470   DB09019   DB09028      0.1978\n",
       "1200471   DB09019   DB07402      0.2182\n",
       "1200472   DB09020   DB09028      0.1525\n",
       "1200473   DB09020   DB07402      0.2190\n",
       "1200474   DB09028   DB07402      0.2178\n",
       "\n",
       "[1200475 rows x 3 columns]"
      ]
     },
     "execution_count": 59,
     "metadata": {},
     "output_type": "execute_result"
    }
   ],
   "source": [
    "drugbank_slim_df = pandas.read_table('../data/drugbank-slim.tsv')\n",
    "drugbank_similarity_df = pandas.read_table('../data/similarity-slim.tsv')\n",
    "drugbank_similarity_df"
   ]
  },
  {
   "cell_type": "code",
   "execution_count": 68,
   "metadata": {},
   "outputs": [
    {
     "name": "stdout",
     "output_type": "stream",
     "text": [
      "DB00659\n"
     ]
    }
   ],
   "source": [
    "for row in (drugbank_slim_df.loc[drugbank_slim_df['name'] == 'Acamprosate'].iterrows()):\n",
    "    print(row[1]['drugbank_id'])"
   ]
  },
  {
   "cell_type": "code",
   "execution_count": 61,
   "metadata": {},
   "outputs": [],
   "source": [
    "G_drugs = nx.Graph()"
   ]
  },
  {
   "cell_type": "code",
   "execution_count": 62,
   "metadata": {},
   "outputs": [],
   "source": [
    "for i, drug in enumerate(drugbank_slim_df.iterrows()):\n",
    "    db_id = drug[1]['drugbank_id']\n",
    "    G_drugs.add_node(db_id)"
   ]
  },
  {
   "cell_type": "code",
   "execution_count": 64,
   "metadata": {},
   "outputs": [],
   "source": [
    "G_drugs_nodes_list = list(G_drugs.nodes)\n"
   ]
  },
  {
   "cell_type": "code",
   "execution_count": 63,
   "metadata": {},
   "outputs": [
    {
     "name": "stdout",
     "output_type": "stream",
     "text": [
      "0.0\n",
      "0.06443298969072164\n",
      "0.12886597938144329\n",
      "0.19329896907216496\n",
      "0.25773195876288657\n",
      "0.32216494845360827\n",
      "0.3865979381443299\n",
      "0.45103092783505155\n",
      "0.5154639175257731\n",
      "0.5798969072164949\n",
      "0.6443298969072165\n",
      "0.7087628865979382\n",
      "0.7731958762886598\n",
      "0.8376288659793815\n",
      "0.9020618556701031\n",
      "0.9664948453608248\n"
     ]
    }
   ],
   "source": [
    "for i, node in enumerate(G_drugs.nodes()):\n",
    "    #print(drugbank_similarity_df.loc[drugbank_similarity_df['compound0'] == node])\n",
    "    if i % 100 == 0:\n",
    "        print(i / len(G_drugs_nodes_list))\n",
    "    for row in (drugbank_similarity_df.loc[drugbank_similarity_df['compound0'] == node].iterrows()):\n",
    "        compound2_id = row[1]['compound1']\n",
    "        if compound2_id in G_drugs.nodes():\n",
    "            #print(compound2_id)\n",
    "            #print(row[1]['similarity'])\n",
    "            G_drugs.add_edge(node, compound2_id, weight=row[1]['similarity'])"
   ]
  },
  {
   "cell_type": "code",
   "execution_count": 66,
   "metadata": {},
   "outputs": [],
   "source": [
    "nx.write_pajek(G_drugs, \"../networks/drug_drug_network.net\")"
   ]
  },
  {
   "cell_type": "code",
   "execution_count": null,
   "metadata": {},
   "outputs": [],
   "source": []
  }
 ],
 "metadata": {
  "kernelspec": {
   "display_name": "Python 3",
   "language": "python",
   "name": "python3"
  },
  "language_info": {
   "codemirror_mode": {
    "name": "ipython",
    "version": 3
   },
   "file_extension": ".py",
   "mimetype": "text/x-python",
   "name": "python",
   "nbconvert_exporter": "python",
   "pygments_lexer": "ipython3",
   "version": "3.8.5"
  }
 },
 "nbformat": 4,
 "nbformat_minor": 4
}
