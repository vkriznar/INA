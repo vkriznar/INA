{
 "cells": [
  {
   "cell_type": "code",
   "execution_count": 5,
   "metadata": {},
   "outputs": [],
   "source": [
    "import networkx as nx\n",
    "import os\n",
    "import csv\n",
    "import gzip\n",
    "import collections\n",
    "import re\n",
    "import io\n",
    "import json\n",
    "import xml.etree.ElementTree as ET\n",
    "\n",
    "import requests\n",
    "import pandas"
   ]
  },
  {
   "cell_type": "code",
   "execution_count": 6,
   "metadata": {},
   "outputs": [],
   "source": [
    "xml_path = os.path.join('../download', 'drugbank.xml.gz')\n",
    "with gzip.open(xml_path) as xml_file:\n",
    "    tree = ET.parse(xml_file)\n",
    "root = tree.getroot()"
   ]
  },
  {
   "cell_type": "code",
   "execution_count": 8,
   "metadata": {},
   "outputs": [],
   "source": [
    "ns = '{http://www.drugbank.ca}'\n",
    "inchikey_template = \"{ns}calculated-properties/{ns}property[{ns}kind='InChIKey']/{ns}value\"\n",
    "inchi_template = \"{ns}calculated-properties/{ns}property[{ns}kind='InChI']/{ns}value\""
   ]
  },
  {
   "cell_type": "code",
   "execution_count": 9,
   "metadata": {},
   "outputs": [],
   "source": [
    "protein_rows = list()\n",
    "for i, drug in enumerate(root):\n",
    "    drugbank_id = drug.findtext(ns + \"drugbank-id[@primary='true']\")\n",
    "    for category in ['target', 'enzyme', 'carrier', 'transporter']:\n",
    "        proteins = drug.findall('{ns}{cat}s/{ns}{cat}'.format(ns=ns, cat=category))\n",
    "        for protein in proteins:\n",
    "            row = {'drugbank_id': drugbank_id, 'category': category}\n",
    "            row['organism'] = protein.findtext('{}organism'.format(ns))\n",
    "            row['known_action'] = protein.findtext('{}known-action'.format(ns))\n",
    "            actions = protein.findall('{ns}actions/{ns}action'.format(ns=ns))\n",
    "            row['actions'] = '|'.join(action.text for action in actions)\n",
    "            uniprot_ids = [polypep.text for polypep in protein.findall(\n",
    "                \"{ns}polypeptide/{ns}external-identifiers/{ns}external-identifier[{ns}resource='UniProtKB']/{ns}identifier\".format(ns=ns))]            \n",
    "            if len(uniprot_ids) != 1:\n",
    "                continue\n",
    "            row['uniprot_id'] = uniprot_ids[0]\n",
    "            ref_text = protein.findtext(\"{ns}references[@format='textile']\".format(ns=ns))\n",
    "            pmids = re.findall(r'pubmed/([0-9]+)', ref_text)\n",
    "            row['pubmed_ids'] = '|'.join(pmids)\n",
    "            protein_rows.append(row)\n",
    "\n",
    "protein_df = pandas.DataFrame.from_dict(protein_rows)"
   ]
  },
  {
   "cell_type": "code",
   "execution_count": 11,
   "metadata": {},
   "outputs": [],
   "source": [
    "G_drugs = nx.read_pajek(\"../networks/drug_drug_network.net\")"
   ]
  },
  {
   "cell_type": "code",
   "execution_count": 10,
   "metadata": {},
   "outputs": [
    {
     "data": {
      "text/html": [
       "<div>\n",
       "<style scoped>\n",
       "    .dataframe tbody tr th:only-of-type {\n",
       "        vertical-align: middle;\n",
       "    }\n",
       "\n",
       "    .dataframe tbody tr th {\n",
       "        vertical-align: top;\n",
       "    }\n",
       "\n",
       "    .dataframe thead th {\n",
       "        text-align: right;\n",
       "    }\n",
       "</style>\n",
       "<table border=\"1\" class=\"dataframe\">\n",
       "  <thead>\n",
       "    <tr style=\"text-align: right;\">\n",
       "      <th></th>\n",
       "      <th>drugbank_id</th>\n",
       "      <th>category</th>\n",
       "      <th>organism</th>\n",
       "      <th>known_action</th>\n",
       "      <th>actions</th>\n",
       "      <th>uniprot_id</th>\n",
       "      <th>pubmed_ids</th>\n",
       "    </tr>\n",
       "  </thead>\n",
       "  <tbody>\n",
       "    <tr>\n",
       "      <th>0</th>\n",
       "      <td>DB00001</td>\n",
       "      <td>target</td>\n",
       "      <td>Human</td>\n",
       "      <td>yes</td>\n",
       "      <td>inhibitor</td>\n",
       "      <td>P00734</td>\n",
       "      <td>10505536|10912644|11055889|11467439|11807012|1...</td>\n",
       "    </tr>\n",
       "    <tr>\n",
       "      <th>1</th>\n",
       "      <td>DB00002</td>\n",
       "      <td>target</td>\n",
       "      <td>Human</td>\n",
       "      <td>yes</td>\n",
       "      <td>antagonist</td>\n",
       "      <td>P00533</td>\n",
       "      <td>10480573|10601294|10628369|11408594|11431346|1...</td>\n",
       "    </tr>\n",
       "    <tr>\n",
       "      <th>2</th>\n",
       "      <td>DB00002</td>\n",
       "      <td>target</td>\n",
       "      <td>Human</td>\n",
       "      <td>unknown</td>\n",
       "      <td></td>\n",
       "      <td>O75015</td>\n",
       "      <td>16336752</td>\n",
       "    </tr>\n",
       "    <tr>\n",
       "      <th>3</th>\n",
       "      <td>DB00002</td>\n",
       "      <td>target</td>\n",
       "      <td>Human</td>\n",
       "      <td>unknown</td>\n",
       "      <td></td>\n",
       "      <td>P00736</td>\n",
       "      <td>17139284|17016423</td>\n",
       "    </tr>\n",
       "    <tr>\n",
       "      <th>4</th>\n",
       "      <td>DB00002</td>\n",
       "      <td>target</td>\n",
       "      <td>Human</td>\n",
       "      <td>unknown</td>\n",
       "      <td></td>\n",
       "      <td>P02745</td>\n",
       "      <td>17139284|17016423</td>\n",
       "    </tr>\n",
       "    <tr>\n",
       "      <th>...</th>\n",
       "      <td>...</td>\n",
       "      <td>...</td>\n",
       "      <td>...</td>\n",
       "      <td>...</td>\n",
       "      <td>...</td>\n",
       "      <td>...</td>\n",
       "      <td>...</td>\n",
       "    </tr>\n",
       "    <tr>\n",
       "      <th>20291</th>\n",
       "      <td>DB09028</td>\n",
       "      <td>target</td>\n",
       "      <td>Human</td>\n",
       "      <td>unknown</td>\n",
       "      <td>agonist</td>\n",
       "      <td>P43681</td>\n",
       "      <td>25517706|11553677</td>\n",
       "    </tr>\n",
       "    <tr>\n",
       "      <th>20292</th>\n",
       "      <td>DB09028</td>\n",
       "      <td>target</td>\n",
       "      <td>Human</td>\n",
       "      <td>unknown</td>\n",
       "      <td>agonist</td>\n",
       "      <td>P36544</td>\n",
       "      <td>25517706|11553677</td>\n",
       "    </tr>\n",
       "    <tr>\n",
       "      <th>20293</th>\n",
       "      <td>DB09028</td>\n",
       "      <td>target</td>\n",
       "      <td>Human</td>\n",
       "      <td>unknown</td>\n",
       "      <td>agonist</td>\n",
       "      <td>P32297</td>\n",
       "      <td>25517706|11553677</td>\n",
       "    </tr>\n",
       "    <tr>\n",
       "      <th>20294</th>\n",
       "      <td>DB09028</td>\n",
       "      <td>target</td>\n",
       "      <td>Human</td>\n",
       "      <td>unknown</td>\n",
       "      <td>agonist</td>\n",
       "      <td>Q15825</td>\n",
       "      <td>25517706|11553677</td>\n",
       "    </tr>\n",
       "    <tr>\n",
       "      <th>20295</th>\n",
       "      <td>DB09029</td>\n",
       "      <td>target</td>\n",
       "      <td>Human</td>\n",
       "      <td>yes</td>\n",
       "      <td>antagonist</td>\n",
       "      <td>Q16552</td>\n",
       "      <td>25354738</td>\n",
       "    </tr>\n",
       "  </tbody>\n",
       "</table>\n",
       "<p>20296 rows × 7 columns</p>\n",
       "</div>"
      ],
      "text/plain": [
       "      drugbank_id category organism known_action     actions uniprot_id  \\\n",
       "0         DB00001   target    Human          yes   inhibitor     P00734   \n",
       "1         DB00002   target    Human          yes  antagonist     P00533   \n",
       "2         DB00002   target    Human      unknown                 O75015   \n",
       "3         DB00002   target    Human      unknown                 P00736   \n",
       "4         DB00002   target    Human      unknown                 P02745   \n",
       "...           ...      ...      ...          ...         ...        ...   \n",
       "20291     DB09028   target    Human      unknown     agonist     P43681   \n",
       "20292     DB09028   target    Human      unknown     agonist     P36544   \n",
       "20293     DB09028   target    Human      unknown     agonist     P32297   \n",
       "20294     DB09028   target    Human      unknown     agonist     Q15825   \n",
       "20295     DB09029   target    Human          yes  antagonist     Q16552   \n",
       "\n",
       "                                              pubmed_ids  \n",
       "0      10505536|10912644|11055889|11467439|11807012|1...  \n",
       "1      10480573|10601294|10628369|11408594|11431346|1...  \n",
       "2                                               16336752  \n",
       "3                                      17139284|17016423  \n",
       "4                                      17139284|17016423  \n",
       "...                                                  ...  \n",
       "20291                                  25517706|11553677  \n",
       "20292                                  25517706|11553677  \n",
       "20293                                  25517706|11553677  \n",
       "20294                                  25517706|11553677  \n",
       "20295                                           25354738  \n",
       "\n",
       "[20296 rows x 7 columns]"
      ]
     },
     "execution_count": 10,
     "metadata": {},
     "output_type": "execute_result"
    }
   ],
   "source": [
    "protein_df"
   ]
  },
  {
   "cell_type": "code",
   "execution_count": 33,
   "metadata": {},
   "outputs": [],
   "source": [
    "for row in (protein_df.loc[protein_df['uniprot_id'] == 'Q8WX93'].iterrows()):\n",
    "    print(row[1]['drugbank_id'])"
   ]
  },
  {
   "cell_type": "code",
   "execution_count": 22,
   "metadata": {},
   "outputs": [],
   "source": [
    "G_targets = nx.Graph()"
   ]
  },
  {
   "cell_type": "code",
   "execution_count": 23,
   "metadata": {},
   "outputs": [],
   "source": [
    "for node in G_drugs.nodes():\n",
    "    for row in (protein_df.loc[protein_df['drugbank_id'] == node].iterrows()):\n",
    "        #print(row[1]['uniprot_id'])\n",
    "        G_targets.add_node(row[1]['uniprot_id'])"
   ]
  },
  {
   "cell_type": "code",
   "execution_count": 17,
   "metadata": {},
   "outputs": [
    {
     "name": "stdout",
     "output_type": "stream",
     "text": [
      "P00533\n",
      "O75015\n",
      "P00736\n",
      "P02745\n",
      "P02746\n",
      "P02747\n",
      "P08637\n",
      "P09871\n",
      "P12314\n",
      "P12318\n",
      "P31994\n",
      "P31995\n"
     ]
    }
   ],
   "source": [
    "for row in (protein_df.loc[protein_df['drugbank_id'] == 'DB00002'].iterrows()):\n",
    "    print(row[1]['uniprot_id'])"
   ]
  },
  {
   "cell_type": "code",
   "execution_count": 27,
   "metadata": {},
   "outputs": [
    {
     "data": {
      "text/plain": [
       "1200475"
      ]
     },
     "execution_count": 27,
     "metadata": {},
     "output_type": "execute_result"
    }
   ],
   "source": [
    "G_drugs.number_of_edges()"
   ]
  },
  {
   "cell_type": "code",
   "execution_count": 25,
   "metadata": {},
   "outputs": [],
   "source": [
    "for node1 in G_targets.nodes():\n",
    "    for node2 in G_targets.nodes():\n",
    "        if node1 != node2:\n",
    "            G_targets.add_edge(node1, node2, weight=0.2)"
   ]
  },
  {
   "cell_type": "code",
   "execution_count": 28,
   "metadata": {},
   "outputs": [],
   "source": [
    "nx.write_pajek(G_targets, \"../networks/targets_targets_network.net\")"
   ]
  },
  {
   "cell_type": "code",
   "execution_count": null,
   "metadata": {},
   "outputs": [],
   "source": []
  }
 ],
 "metadata": {
  "kernelspec": {
   "display_name": "Python 3",
   "language": "python",
   "name": "python3"
  },
  "language_info": {
   "name": ""
  }
 },
 "nbformat": 4,
 "nbformat_minor": 4
}
